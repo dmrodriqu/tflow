{
 "cells": [
  {
   "cell_type": "code",
   "execution_count": 3,
   "metadata": {
    "collapsed": false
   },
   "outputs": [
    {
     "name": "stdout",
     "output_type": "stream",
     "text": [
      "Successfully downloaded train-images-idx3-ubyte.gz 9912422 bytes.\n",
      "Extracting mnist_data/train-images-idx3-ubyte.gz\n",
      "Successfully downloaded train-labels-idx1-ubyte.gz 28881 bytes.\n",
      "Extracting mnist_data/train-labels-idx1-ubyte.gz\n",
      "Successfully downloaded t10k-images-idx3-ubyte.gz 1648877 bytes.\n",
      "Extracting mnist_data/t10k-images-idx3-ubyte.gz\n",
      "Successfully downloaded t10k-labels-idx1-ubyte.gz 4542 bytes.\n",
      "Extracting mnist_data/t10k-labels-idx1-ubyte.gz\n"
     ]
    }
   ],
   "source": [
    "import tensorflow as tf\n",
    "#import mnist data\n",
    "from tensorflow.examples.tutorials.mnist import input_data\n",
    "# load the mnist data as onehot encoding \n",
    "# i.e. 000000100000\n",
    "#      ddddddllllll\n",
    "# d - data\n",
    "# l - label\n",
    "mnist = input_data.read_data_sets('mnist_data/', one_hot = True)"
   ]
  },
  {
   "cell_type": "code",
   "execution_count": 7,
   "metadata": {
    "collapsed": false
   },
   "outputs": [],
   "source": [
    "# data is split into two parts- >\n",
    "# mnist.train, mnist. validation\n",
    "# each image is 28*28 pixels, now flattened into a 784 dimensional\n",
    "# vector...think of a list of len(list) = 784\n",
    "# this is dimensionality reduction\n",
    "\n",
    "# we need to know how to conclude from evidence given that\n",
    "# an image is of a particular class. To do this we also need to know\n",
    "# which inputs are the probability of a class given inputl\n",
    "# definition of weights in DL - the information the probability the\n",
    "# class is dependent on\n",
    "# definition of bias in DL - the information the probabiliy the class\n",
    "# is independent from\n",
    "# the evidence of a given data is summed linearly:\n",
    "# i = 0\n",
    "# classList = [listofclasses]\n",
    "# elis = []\n",
    "# for x in input:\n",
    "#     while i < len(classList):\n",
    "#         w = weight()\n",
    "#         b = bias()\n",
    "#         ev = evidence()\n",
    "#         ev = sum(w*x+b)\n",
    "#         elis.append(ev)\n",
    "#         i += 1\n"
   ]
  },
  {
   "cell_type": "code",
   "execution_count": 8,
   "metadata": {
    "collapsed": true
   },
   "outputs": [],
   "source": [
    "# describing the input, a template, if you will\n",
    "# dimension (numpy) of [none, 784], a 784 dimensional vector\n",
    "x = tf.placeholder(tf.float32, [None, 784])\n",
    "# defining weights\n",
    "# initializing weights size 784,10 with 0s\n",
    "W = tf.Variable(tf.zeros([784,10]))\n",
    "b = tf.Variable(tf.zeros([10]))\n",
    "# we want a result of 10 dimensional vectors ->\n",
    "# so multiplying vectors [None,784] * [784,10] to result [10]\n",
    "y = tf.nn.softmax(tf.matmul(x,W)+ b)\n"
   ]
  },
  {
   "cell_type": "code",
   "execution_count": 12,
   "metadata": {
    "collapsed": false
   },
   "outputs": [],
   "source": [
    "# we want to minimize how bad our predicitons are for what the ground\n",
    "# truth is, so this is implemented by measuring cross-entropy\n",
    "# summating the true distribution with the product of the log of the\n",
    "# predictions\n",
    "\n",
    "y_ = tf.placeholder(tf.float32, [None,10])\n",
    "cross_entropy = tf.reduce_mean(-tf.reduce_sum(y_ * tf.log(y), reduction_indices = [1]))\n"
   ]
  },
  {
   "cell_type": "code",
   "execution_count": 13,
   "metadata": {
    "collapsed": true
   },
   "outputs": [],
   "source": [
    "train_step = tf.train.GradientDescentOptimizer(0.5).minimize(cross_entropy)\n",
    "init = tf.initialize_all_variables()"
   ]
  },
  {
   "cell_type": "code",
   "execution_count": 34,
   "metadata": {
    "collapsed": false
   },
   "outputs": [
    {
     "name": "stdout",
     "output_type": "stream",
     "text": [
      "Tensor(\"ArgMax_16:0\", shape=(?,), dtype=int64)\n"
     ]
    }
   ],
   "source": [
    "sess = tf.Session()\n",
    "sess.run(init)\n"
   ]
  },
  {
   "cell_type": "code",
   "execution_count": 30,
   "metadata": {
    "collapsed": false
   },
   "outputs": [],
   "source": [
    "for i in range(1000):\n",
    "    # get 100 random datapoints while i increases to 100\n",
    "    batch_xs, batch_ys = mnist.train.next_batch(100)\n",
    "    sess.run(train_step, feed_dict={x:batch_xs, y_: batch_ys})\n",
    "    "
   ]
  },
  {
   "cell_type": "code",
   "execution_count": 33,
   "metadata": {
    "collapsed": false
   },
   "outputs": [
    {
     "name": "stdout",
     "output_type": "stream",
     "text": [
      "Tensor(\"ArgMax_15:0\", shape=(?,), dtype=int64)\n"
     ]
    }
   ],
   "source": [
    "# dont try and print... yes... this is correct. \n",
    "# you are getting the values along some axis:\n",
    "# i.e. y,1 -> predicted y,1 -> groud truth\n",
    "# tf.equal -> are they equal\n",
    "# remember... tensorflow-> TENSORS...like matrices...but ...TENSORS\n",
    "correct_prediction = tf.equal(tf.argmax(y,1), tf.argmax(y_,1))"
   ]
  },
  {
   "cell_type": "code",
   "execution_count": 25,
   "metadata": {
    "collapsed": false
   },
   "outputs": [
    {
     "name": "stdout",
     "output_type": "stream",
     "text": [
      "0.9236\n"
     ]
    }
   ],
   "source": [
    "accuracy = tf.reduce_mean(tf.cast(correct_prediction, tf.float32))\n",
    "print(sess.run(accuracy, feed_dict={x: mnist.test.images, y_: mnist.test.labels}))"
   ]
  },
  {
   "cell_type": "code",
   "execution_count": null,
   "metadata": {
    "collapsed": true
   },
   "outputs": [],
   "source": []
  }
 ],
 "metadata": {
  "kernelspec": {
   "display_name": "Python 2",
   "language": "python",
   "name": "python2"
  },
  "language_info": {
   "codemirror_mode": {
    "name": "ipython",
    "version": 2
   },
   "file_extension": ".py",
   "mimetype": "text/x-python",
   "name": "python",
   "nbconvert_exporter": "python",
   "pygments_lexer": "ipython2",
   "version": "2.7.12"
  }
 },
 "nbformat": 4,
 "nbformat_minor": 1
}
